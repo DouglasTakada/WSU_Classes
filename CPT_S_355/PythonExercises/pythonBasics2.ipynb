{
 "cells": [
  {
   "cell_type": "markdown",
   "id": "f38a3ad0-50fa-4881-94f2-c2b60774e293",
   "metadata": {},
   "source": [
    "# Dictionaries:"
   ]
  },
  {
   "cell_type": "code",
   "execution_count": null,
   "id": "b6026d8b-1237-4ac5-a514-d7ca1b90124a",
   "metadata": {},
   "outputs": [],
   "source": [
    "d1 = { 1 :'a', 2 :'x', 3 :'y'}\n",
    "d2 = {'a': 1 , 2 :'b', 3 :'c', 'c': 3 , 4 :'d'}\n",
    "\n",
    "d2['a']\n",
    "d2[2]\n",
    "# d2[5]     # error, if you try to get the value of a key that doesnt exist in the dictionary, it generates an error."
   ]
  },
  {
   "cell_type": "code",
   "execution_count": null,
   "id": "d9158a13-386a-4b99-ab8a-8e8a8f4240fb",
   "metadata": {},
   "outputs": [],
   "source": [
    "d1 = { 1 :'a', 2 :'x', 3 :'y'}\n",
    "d2 = {'a': 1 , 2 :'b', 3 :'c', 'c': 3 , 4 :'d'}\n",
    "\n",
    "d2.get(5)  # no error. It returns none.\n",
    "d2.get(5,0)  # no error. It returns the provided default value : 0."
   ]
  },
  {
   "cell_type": "code",
   "execution_count": null,
   "id": "2d4fa015-2229-4d35-b641-32cc68704a32",
   "metadata": {},
   "outputs": [],
   "source": [
    "d1 = { 1 :'a', 2 :'x', 3 :'y'}\n",
    "d2 = {'a': 1 , 2 :'b', 3 :'c', 'c': 3 , 4 :'d'}\n",
    "\n",
    "# Python dictionaries are mutable\n",
    "# to add/update values to/in a dictionary \n",
    "d2[5] = 'f'  # add 5:'f' to dictionary\n",
    "d2[2] = 'D'  # update the value for key 2 as 'D'"
   ]
  },
  {
   "cell_type": "code",
   "execution_count": null,
   "id": "d093dee7-653c-4c7b-ba19-d4bd9e9b18cb",
   "metadata": {},
   "outputs": [],
   "source": [
    "# values in a dictionary can be functions\n",
    "def getFirst (t):\n",
    "    return t[0]\n",
    "    \n",
    "def getSecond (t):\n",
    "    return t[1]    \n",
    "\n",
    "d3 = {1:getFirst, 2:getSecond}\n",
    "d3[1]((1,\"two\"))\n",
    "d3[2]((1,\"two\"))"
   ]
  },
  {
   "cell_type": "markdown",
   "id": "55c16d51-308a-4b8d-ab32-7e31125593f7",
   "metadata": {},
   "source": [
    "# Can lists be dictionary keys?"
   ]
  },
  {
   "cell_type": "code",
   "execution_count": null,
   "id": "89906804-2de4-4006-ab3c-c0ae6e63fa3c",
   "metadata": {},
   "outputs": [],
   "source": [
    "# To get keys in dictionary:\n",
    "d2.keys()\n",
    "list (d2.keys())"
   ]
  },
  {
   "cell_type": "code",
   "execution_count": null,
   "id": "afc114ec-b770-4671-8af3-fbd016321aed",
   "metadata": {},
   "outputs": [],
   "source": [
    "# To get values in dictionary\n",
    "d2.values()\n",
    "list (d2.values())"
   ]
  },
  {
   "cell_type": "code",
   "execution_count": null,
   "id": "f9a065f5-c520-431f-bfc6-17e803bd524b",
   "metadata": {},
   "outputs": [],
   "source": [
    "# To get both:\n",
    "d2.items()\n",
    "list(d2.items())"
   ]
  },
  {
   "cell_type": "markdown",
   "id": "97627b5b-3ce4-4b74-825f-4e0a2e128243",
   "metadata": {},
   "source": [
    "# Sorting dictionaries :"
   ]
  },
  {
   "cell_type": "code",
   "execution_count": 1,
   "id": "10902be7-f532-461d-ade9-009b3c828b07",
   "metadata": {},
   "outputs": [],
   "source": [
    "#You can also sort dictionaries (Caution!):\n",
    "d = {'c': 5 , 'a': 1 , 'b': 2 , 'd': 1 }\n",
    "sorted (d)"
   ]
  },
  {
   "cell_type": "code",
   "execution_count": 2,
   "id": "c1dc002d-a42f-4db5-a5c4-e9dafba3c1f9",
   "metadata": {},
   "outputs": [
    {
     "data": {
      "text/plain": [
       "{'a': 1, 'd': 1, 'b': 2, 'c': 5}"
      ]
     },
     "execution_count": 2,
     "metadata": {},
     "output_type": "execute_result"
    }
   ],
   "source": [
    "di = list (d.items())\n",
    "sorted (di)\n",
    "sorted (di, key = lambda item: item[1])\n",
    "# convert a list of tuples to a dictionary\n",
    "d_sorted = dict(sorted(list (d.items())))"
   ]
  },
  {
   "cell_type": "markdown",
   "id": "071fd24e-1ce6-4dbe-9f65-4fcab86097e0",
   "metadata": {
    "tags": []
   },
   "source": [
    "# for and while loop"
   ]
  },
  {
   "cell_type": "code",
   "execution_count": null,
   "id": "a18d2ed8-0a70-49f0-a8a4-999d943f73c3",
   "metadata": {},
   "outputs": [],
   "source": [
    "myS = \"CptS355\"\n",
    "myL = [1,2,\"three\",(4,5),[6,7,8],True]\n",
    "numbers = [1,2,3,4,5,6,7,8]\n",
    "myT = (1,2,\"three\",4,5,6,False)\n",
    "myD = {\"f\":9,\"d\":3,\"e\":7,\"a\":1}\n",
    "myClasses = {1:\"355\",2:\"322\",3:\"451\",4:\"421\"}"
   ]
  },
  {
   "cell_type": "code",
   "execution_count": null,
   "id": "39df95a6-8a7f-4484-9090-84c31e21c25f",
   "metadata": {},
   "outputs": [],
   "source": [
    "for i in range(0,len(myL)):\n",
    "    print(myL[i])"
   ]
  },
  {
   "cell_type": "code",
   "execution_count": null,
   "id": "bee2ed0a-14ae-4058-81cd-bb360ad45a90",
   "metadata": {},
   "outputs": [],
   "source": [
    "for x in myS:\n",
    "    print(x)"
   ]
  },
  {
   "cell_type": "code",
   "execution_count": null,
   "id": "b1c1eeeb-9c6d-4376-92ba-375b80092755",
   "metadata": {},
   "outputs": [],
   "source": [
    "for k in myD.keys():\n",
    "    print(k,myD[k])"
   ]
  },
  {
   "cell_type": "code",
   "execution_count": null,
   "id": "d03807bc-3e67-4313-8a2c-055b7d952572",
   "metadata": {},
   "outputs": [],
   "source": [
    "for x in myD.items():\n",
    "    print(x[0],x[1])"
   ]
  },
  {
   "cell_type": "code",
   "execution_count": null,
   "id": "4df99282-a0c6-4a7a-a682-0c0776984d1d",
   "metadata": {},
   "outputs": [],
   "source": [
    "for k,v in myD.items():\n",
    "    print(k,v)"
   ]
  },
  {
   "cell_type": "code",
   "execution_count": null,
   "id": "8a6e6164-1f5f-43da-8c11-a0fb53af6feb",
   "metadata": {},
   "outputs": [],
   "source": [
    "cPairs = [('red',1), ('yellow',5),('blue',2)]\n",
    "for (name,count) in cPairs:\n",
    "   print('Color', name, 'appears', count, 'times')"
   ]
  },
  {
   "cell_type": "code",
   "execution_count": null,
   "id": "ab6f35a8-9501-4280-9bfb-a47e3a8010ae",
   "metadata": {},
   "outputs": [],
   "source": [
    "cTriples = [('red',1,0xFF0000), ('yellow',5,0xFFFF00),('blue',2,0x0000FF)]\n",
    "for (name,count,color) in cTriples:\n",
    "   print('Color', name, 'appears', count, 'times', '-', color)"
   ]
  },
  {
   "cell_type": "code",
   "execution_count": null,
   "id": "9b2094cc-1e7d-40df-a370-be7b15576a64",
   "metadata": {},
   "outputs": [],
   "source": [
    "# while loops are more prone to errors\n",
    "# the following while loop will not print all values in myL correctly \n",
    "i = 0\n",
    "x = myL[i]\n",
    "while i < len(myL):\n",
    "    print(x)\n",
    "    x = myL[i]\n",
    "    i +=1"
   ]
  },
  {
   "cell_type": "code",
   "execution_count": null,
   "id": "51a1eda7-0008-485f-a476-32a9d69c02ff",
   "metadata": {},
   "outputs": [],
   "source": [
    "#corrected\n",
    "i = 0\n",
    "while i < len(myL):\n",
    "    x = myL[i]\n",
    "    print(x)\n",
    "    i +=1"
   ]
  },
  {
   "cell_type": "code",
   "execution_count": null,
   "id": "a489732f-59ef-4d7e-a7b1-b251c62e73aa",
   "metadata": {},
   "outputs": [],
   "source": [
    "i = 0\n",
    "while i < len(myL):\n",
    "    x = myL[i]\n",
    "    if x == \"three\":\n",
    "        break\n",
    "    print(x)\n",
    "    i +=1"
   ]
  },
  {
   "cell_type": "markdown",
   "id": "04a326d5-68c1-488b-8b89-df461567e7f7",
   "metadata": {},
   "source": [
    "# conditional statements"
   ]
  },
  {
   "cell_type": "code",
   "execution_count": null,
   "id": "a89d338d-6c66-40b0-96f6-97adada09e97",
   "metadata": {},
   "outputs": [],
   "source": [
    "if \"three\" in myL:\n",
    "    print(\"found\")"
   ]
  },
  {
   "cell_type": "code",
   "execution_count": null,
   "id": "f2fa3907-65b9-4b99-bc8b-4630a78e815f",
   "metadata": {},
   "outputs": [],
   "source": [
    "c = \"355\"\n",
    "if c == \"355\":\n",
    "    print (\"CptS\",c)\n",
    "elif c == \"354\":\n",
    "    print (\"EE\",c)\n",
    "else:\n",
    "    print (\"N/A\")"
   ]
  },
  {
   "cell_type": "markdown",
   "id": "2ff2367c-6949-4bb9-ab61-6eab752b4b33",
   "metadata": {},
   "source": [
    "# Scope of local variables: global, and  nonlocal variables"
   ]
  },
  {
   "cell_type": "code",
   "execution_count": 9,
   "id": "800b9130-8079-41ee-ad5d-51805f0eded1",
   "metadata": {},
   "outputs": [
    {
     "name": "stdout",
     "output_type": "stream",
     "text": [
      "CptS355\n"
     ]
    }
   ],
   "source": [
    "# Is s (at line 4) a global or local variable? \n",
    "s = \"CptS355\"\n",
    "def f(): \n",
    "    s = \"CptS322\"   # line 4\n",
    "    \n",
    "f()\n",
    "print(s)"
   ]
  },
  {
   "cell_type": "code",
   "execution_count": 8,
   "id": "d597b197-92d9-489f-8420-912ceaca8e48",
   "metadata": {},
   "outputs": [
    {
     "name": "stdout",
     "output_type": "stream",
     "text": [
      "CptS355\n",
      "CptS322\n"
     ]
    }
   ],
   "source": [
    "# Is s (at line 4) a global or local variable? \n",
    "# When f() is executed, will the value of the global s change?\n",
    "s = \"CptS355\"\n",
    "def f(): \n",
    "    s = \"CptS322\"\n",
    "    \n",
    "f()\n",
    "print(s)"
   ]
  },
  {
   "cell_type": "code",
   "execution_count": 10,
   "id": "accc6be8-2ac6-4b2e-a9b4-57cd7378e455",
   "metadata": {},
   "outputs": [
    {
     "name": "stdout",
     "output_type": "stream",
     "text": [
      "example 1 - z in main: 1\n"
     ]
    }
   ],
   "source": [
    "## global and local variables - example 1\n",
    "z = 1\n",
    "def f():\n",
    "    z = 4\n",
    "    def g(a):\n",
    "        #print(\"z in g:\",z)\n",
    "        z =  10\n",
    "        return z\n",
    "    return z+g(19)  # 4 + 10 = 14\n",
    "\n",
    "result1 = f()\n",
    "print(\"example 1 - z in main:\",z)"
   ]
  },
  {
   "cell_type": "code",
   "execution_count": 11,
   "id": "a9dc463c-eb1c-4b12-a1ea-459556580fee",
   "metadata": {},
   "outputs": [
    {
     "name": "stdout",
     "output_type": "stream",
     "text": [
      "z in g: 1\n",
      "example 2 - z in main: 10\n"
     ]
    }
   ],
   "source": [
    "## global and local variables\n",
    "z = 1\n",
    "def f():\n",
    "    z = 4\n",
    "    def g(a):\n",
    "        global z\n",
    "        print(\"z in g:\",z)\n",
    "        z =  10\n",
    "        return z\n",
    "    return z + g(19)  # 4 + 10 = 14\n",
    "\n",
    "result2 = f()\n",
    "print(\"example 2 - z in main:\",z)"
   ]
  },
  {
   "cell_type": "code",
   "execution_count": null,
   "id": "1063820a-1c44-4787-99f4-e6123e4eac81",
   "metadata": {},
   "outputs": [],
   "source": [
    "## global, local, and nonlocal variables\n",
    "z = 1\n",
    "def f():\n",
    "    z = 4\n",
    "    def g(a):\n",
    "        nonlocal z\n",
    "        print(\"z in g:\",z)\n",
    "        z =  10\n",
    "        return z\n",
    "    return g(19) + z # 10 + 10 =20 \n",
    "result3 = f()\n",
    "print(\"example 3 - z in main:\",z)"
   ]
  },
  {
   "cell_type": "markdown",
   "id": "7c1d308a-1918-4bd1-bf65-3fc755dc8a73",
   "metadata": {},
   "source": [
    "# local vs global variables"
   ]
  },
  {
   "cell_type": "code",
   "execution_count": 15,
   "id": "e529f9c1-7288-4551-89a8-bd772fdeadc4",
   "metadata": {},
   "outputs": [
    {
     "name": "stdout",
     "output_type": "stream",
     "text": [
      "L: [1, 2]\n",
      "L: ['c', 2]\n"
     ]
    }
   ],
   "source": [
    "# local vs global variables - example 1\n",
    "def demo ():\n",
    "    L[0] = 'c'\n",
    "    return L\n",
    "\n",
    "def demo (L):\n",
    "    L[0] = 'c'\n",
    "    return L\n",
    "\n",
    "L = [1,2]\n",
    "print(\"L:\", L)\n",
    "result = demo(L)\n",
    "print(\"L:\", L)\n",
    "#print(\"result:\",result)"
   ]
  },
  {
   "cell_type": "code",
   "execution_count": 14,
   "id": "44d51fa9-885d-4d00-9f08-7b4bbb3c9155",
   "metadata": {},
   "outputs": [
    {
     "name": "stdout",
     "output_type": "stream",
     "text": [
      "L: [1, 2]\n",
      "L: [1, 2]\n"
     ]
    }
   ],
   "source": [
    "# local vs global variables\n",
    "def demo2():\n",
    "    L=['a','b','c']\n",
    "    return L\n",
    "\n",
    "def demo2(L):\n",
    "    L=['a','b','c']\n",
    "    return L\n",
    "\n",
    "L = [1,2]\n",
    "print(\"L:\", L)\n",
    "result = demo2(L)\n",
    "print(\"L:\",L)"
   ]
  },
  {
   "attachments": {},
   "cell_type": "markdown",
   "id": "c2579b6b",
   "metadata": {},
   "source": [
    "# List comprehension"
   ]
  },
  {
   "cell_type": "code",
   "execution_count": 1,
   "id": "beceab22",
   "metadata": {},
   "outputs": [
    {
     "data": {
      "text/plain": [
       "[9, 16, 25]"
      ]
     },
     "execution_count": 1,
     "metadata": {},
     "output_type": "execute_result"
    }
   ],
   "source": [
    "\n",
    "numbers = [1,2,3,4,5,6]\n",
    "letters = ['a','b','c','d','e','f']\n",
    "\n",
    "squares = [x*x for x in numbers] # [1,4,9.....]\n",
    "pairs = [(i,c) for i in numbers for c in letters]\n",
    "\n",
    "intpairs = [(i1,i2) for i1 in numbers for i2 in numbers if i1<i2]\n",
    "\n",
    "[x*x for x in numbers][2:5]\n"
   ]
  },
  {
   "cell_type": "markdown",
   "id": "6251bd15-ea73-455e-9107-5b17266ce43b",
   "metadata": {},
   "source": [
    "# Patterns"
   ]
  },
  {
   "cell_type": "code",
   "execution_count": null,
   "id": "a1f8e0c3-7faa-40d1-a221-17015e574dcf",
   "metadata": {},
   "outputs": [],
   "source": [
    "p = ( 1 , 2 , 3 , 4 )\n",
    "x,y,z,t = p\n",
    "\n",
    "p = [ 1 , 2 , 3 , 4 ]\n",
    "x,y,z,t = p\n",
    "\n",
    "p = \"1234\"\n",
    "x,y,z,t = p\n",
    "\n",
    "x = 'a'\n",
    "y = 'b'\n",
    "z = 'c'\n",
    "t = 'd'\n",
    "p = (x,y,z,t)\n",
    "p = [x,y,z,t]\n",
    "p = x + y + z + t\n"
   ]
  },
  {
   "cell_type": "markdown",
   "id": "31fa8488",
   "metadata": {},
   "source": [
    "# copy and deepcopy"
   ]
  },
  {
   "cell_type": "code",
   "execution_count": 3,
   "id": "6e864977",
   "metadata": {},
   "outputs": [
    {
     "name": "stdout",
     "output_type": "stream",
     "text": [
      "{2020: {'USC': (13, 38), 'UTAH': (28, 45)}, 2021: {'ARIZ': (44, 18), 'WASH': (40, 13), 'CMU': (21, 24)}}\n",
      "{2021: {'ARIZ': (44, 18), 'WASH': (40, 13), 'CMU': (21, 24)}}\n"
     ]
    }
   ],
   "source": [
    "wsu_games = {\n",
    "    2020: {\"USC\":(13,38), \"UTAH\":(28,45)},\n",
    "    2021: {\"ARIZ\":(44,18), \"WASH\":(40,13), \"CMU\":(21,24)} }\n",
    "\n",
    "def update_dict1(games):\n",
    "    del games[2020]\n",
    "    return None\n",
    "\n",
    "print(wsu_games)\n",
    "update_dict1(wsu_games)\n",
    "print(wsu_games)"
   ]
  },
  {
   "cell_type": "code",
   "execution_count": 5,
   "id": "6e1106f8",
   "metadata": {},
   "outputs": [
    {
     "name": "stdout",
     "output_type": "stream",
     "text": [
      "{2020: {'USC': (13, 38), 'UTAH': (28, 45)}, 2021: {'ARIZ': (44, 18), 'WASH': (40, 13), 'CMU': (21, 24)}}\n",
      "{2020: {'USC': (13, 38), 'UTAH': (28, 45)}, 2021: {'ARIZ': (44, 18), 'WASH': (40, 13), 'CMU': (21, 24), 'UCLA': (20, 40)}}\n"
     ]
    }
   ],
   "source": [
    "wsu_games = {\n",
    "    2020: {\"USC\":(13,38), \"UTAH\":(28,45)},\n",
    "    2021: {\"ARIZ\":(44,18), \"WASH\":(40,13), \"CMU\":(21,24)} }\n",
    "\n",
    "from copy import copy\n",
    "def update_dict2(games):\n",
    "    temp = copy(games)\n",
    "    del temp[2020]\n",
    "    temp[2021][\"UCLA\"]=(20,40)\n",
    "    return None\n",
    "\n",
    "print(wsu_games)\n",
    "update_dict2(wsu_games)\n",
    "print(wsu_games)"
   ]
  },
  {
   "cell_type": "code",
   "execution_count": 6,
   "id": "f191c04b",
   "metadata": {},
   "outputs": [
    {
     "name": "stdout",
     "output_type": "stream",
     "text": [
      "{2020: {'USC': (13, 38), 'UTAH': (28, 45)}, 2021: {'ARIZ': (44, 18), 'WASH': (40, 13), 'CMU': (21, 24)}}\n",
      "{2020: {'USC': (13, 38), 'UTAH': (28, 45)}, 2021: {'ARIZ': (44, 18), 'WASH': (40, 13), 'CMU': (21, 24)}}\n"
     ]
    }
   ],
   "source": [
    "wsu_games = {\n",
    "    2020: {\"USC\":(13,38), \"UTAH\":(28,45)},\n",
    "    2021: {\"ARIZ\":(44,18), \"WASH\":(40,13), \"CMU\":(21,24)} }\n",
    "\n",
    "from copy import copy,deepcopy\n",
    "def update_dict3(games):\n",
    "    temp = deepcopy(games)\n",
    "    del temp[2020]\n",
    "    temp[2021][\"UCLA\"]=(20,40)\n",
    "    return None\n",
    "\n",
    "print(wsu_games)\n",
    "update_dict3(wsu_games)\n",
    "print(wsu_games)"
   ]
  },
  {
   "cell_type": "markdown",
   "id": "9ba1acd1",
   "metadata": {},
   "source": [
    "# Use of iterators"
   ]
  },
  {
   "cell_type": "code",
   "execution_count": 2,
   "id": "7da7a1da",
   "metadata": {},
   "outputs": [
    {
     "name": "stdout",
     "output_type": "stream",
     "text": [
      "CptS355 CptS322 CptS321\n"
     ]
    }
   ],
   "source": [
    "#use of iterators\n",
    "def getCourse(it):\n",
    "    course = \"\"\n",
    "    for c in it:\n",
    "        if c=='-':\n",
    "            return course\n",
    "        else:\n",
    "            course += c\n",
    "    return course\n",
    "\n",
    "i = iter(\"CptS355-CptS322-CptS321\")\n",
    "course1 = getCourse(i)\n",
    "course2 = getCourse(i)\n",
    "course3 = getCourse(i)\n",
    "print(course1, course2, course3)\n",
    "\n",
    "# What will the above code print?"
   ]
  }
 ],
 "metadata": {
  "kernelspec": {
   "display_name": "Python 3",
   "language": "python",
   "name": "python3"
  },
  "language_info": {
   "codemirror_mode": {
    "name": "ipython",
    "version": 3
   },
   "file_extension": ".py",
   "mimetype": "text/x-python",
   "name": "python",
   "nbconvert_exporter": "python",
   "pygments_lexer": "ipython3",
   "version": "3.7.4"
  },
  "vscode": {
   "interpreter": {
    "hash": "8484a2b8bb07fd7d217b5c10211c29b8bec547436044d7ce40aafe37bbecb74d"
   }
  }
 },
 "nbformat": 4,
 "nbformat_minor": 5
}
